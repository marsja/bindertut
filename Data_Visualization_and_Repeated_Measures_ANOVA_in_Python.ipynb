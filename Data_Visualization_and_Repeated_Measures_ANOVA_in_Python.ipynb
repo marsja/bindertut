{
 "cells": [
  {
   "cell_type": "markdown",
   "metadata": {},
   "source": [
    "## Example Python Jupyter Notebook Online: Binder Tutorial\n",
    "This Jupyter Notebook is an example for the tutorial on how to use Binder for reproducible research. It contains the code for creating some data visualizations using Python Seaborn. After that is done a repeated measures ANOVA using pingouin"
   ]
  },
  {
   "cell_type": "code",
   "execution_count": 1,
   "metadata": {},
   "outputs": [
    {
     "data": {
      "text/html": [
       "<div>\n",
       "<style scoped>\n",
       "    .dataframe tbody tr th:only-of-type {\n",
       "        vertical-align: middle;\n",
       "    }\n",
       "\n",
       "    .dataframe tbody tr th {\n",
       "        vertical-align: top;\n",
       "    }\n",
       "\n",
       "    .dataframe thead th {\n",
       "        text-align: right;\n",
       "    }\n",
       "</style>\n",
       "<table border=\"1\" class=\"dataframe\">\n",
       "  <thead>\n",
       "    <tr style=\"text-align: right;\">\n",
       "      <th></th>\n",
       "      <th>treatment</th>\n",
       "      <th>gender</th>\n",
       "      <th>pre.1</th>\n",
       "      <th>pre.2</th>\n",
       "      <th>pre.3</th>\n",
       "      <th>pre.4</th>\n",
       "      <th>pre.5</th>\n",
       "      <th>post.1</th>\n",
       "      <th>post.2</th>\n",
       "      <th>post.3</th>\n",
       "      <th>post.4</th>\n",
       "      <th>post.5</th>\n",
       "      <th>fup.1</th>\n",
       "      <th>fup.2</th>\n",
       "      <th>fup.3</th>\n",
       "      <th>fup.4</th>\n",
       "      <th>fup.5</th>\n",
       "    </tr>\n",
       "  </thead>\n",
       "  <tbody>\n",
       "    <tr>\n",
       "      <th>1</th>\n",
       "      <td>control</td>\n",
       "      <td>M</td>\n",
       "      <td>1</td>\n",
       "      <td>2</td>\n",
       "      <td>4</td>\n",
       "      <td>2</td>\n",
       "      <td>1</td>\n",
       "      <td>3</td>\n",
       "      <td>2</td>\n",
       "      <td>5</td>\n",
       "      <td>3</td>\n",
       "      <td>2</td>\n",
       "      <td>2</td>\n",
       "      <td>3</td>\n",
       "      <td>2</td>\n",
       "      <td>4</td>\n",
       "      <td>4</td>\n",
       "    </tr>\n",
       "    <tr>\n",
       "      <th>2</th>\n",
       "      <td>control</td>\n",
       "      <td>M</td>\n",
       "      <td>4</td>\n",
       "      <td>4</td>\n",
       "      <td>5</td>\n",
       "      <td>3</td>\n",
       "      <td>4</td>\n",
       "      <td>2</td>\n",
       "      <td>2</td>\n",
       "      <td>3</td>\n",
       "      <td>5</td>\n",
       "      <td>3</td>\n",
       "      <td>4</td>\n",
       "      <td>5</td>\n",
       "      <td>6</td>\n",
       "      <td>4</td>\n",
       "      <td>1</td>\n",
       "    </tr>\n",
       "    <tr>\n",
       "      <th>3</th>\n",
       "      <td>control</td>\n",
       "      <td>M</td>\n",
       "      <td>5</td>\n",
       "      <td>6</td>\n",
       "      <td>5</td>\n",
       "      <td>7</td>\n",
       "      <td>7</td>\n",
       "      <td>4</td>\n",
       "      <td>5</td>\n",
       "      <td>7</td>\n",
       "      <td>5</td>\n",
       "      <td>4</td>\n",
       "      <td>7</td>\n",
       "      <td>6</td>\n",
       "      <td>9</td>\n",
       "      <td>7</td>\n",
       "      <td>6</td>\n",
       "    </tr>\n",
       "    <tr>\n",
       "      <th>4</th>\n",
       "      <td>control</td>\n",
       "      <td>F</td>\n",
       "      <td>5</td>\n",
       "      <td>4</td>\n",
       "      <td>7</td>\n",
       "      <td>5</td>\n",
       "      <td>4</td>\n",
       "      <td>2</td>\n",
       "      <td>2</td>\n",
       "      <td>3</td>\n",
       "      <td>5</td>\n",
       "      <td>3</td>\n",
       "      <td>4</td>\n",
       "      <td>4</td>\n",
       "      <td>5</td>\n",
       "      <td>3</td>\n",
       "      <td>4</td>\n",
       "    </tr>\n",
       "    <tr>\n",
       "      <th>5</th>\n",
       "      <td>control</td>\n",
       "      <td>F</td>\n",
       "      <td>3</td>\n",
       "      <td>4</td>\n",
       "      <td>6</td>\n",
       "      <td>4</td>\n",
       "      <td>3</td>\n",
       "      <td>6</td>\n",
       "      <td>7</td>\n",
       "      <td>8</td>\n",
       "      <td>6</td>\n",
       "      <td>3</td>\n",
       "      <td>4</td>\n",
       "      <td>3</td>\n",
       "      <td>6</td>\n",
       "      <td>4</td>\n",
       "      <td>3</td>\n",
       "    </tr>\n",
       "  </tbody>\n",
       "</table>\n",
       "</div>"
      ],
      "text/plain": [
       "  treatment gender  pre.1  pre.2  pre.3  pre.4  pre.5  post.1  post.2  post.3  \\\n",
       "1   control      M      1      2      4      2      1       3       2       5   \n",
       "2   control      M      4      4      5      3      4       2       2       3   \n",
       "3   control      M      5      6      5      7      7       4       5       7   \n",
       "4   control      F      5      4      7      5      4       2       2       3   \n",
       "5   control      F      3      4      6      4      3       6       7       8   \n",
       "\n",
       "   post.4  post.5  fup.1  fup.2  fup.3  fup.4  fup.5  \n",
       "1       3       2      2      3      2      4      4  \n",
       "2       5       3      4      5      6      4      1  \n",
       "3       5       4      7      6      9      7      6  \n",
       "4       5       3      4      4      5      3      4  \n",
       "5       6       3      4      3      6      4      3  "
      ]
     },
     "execution_count": 1,
     "metadata": {},
     "output_type": "execute_result"
    }
   ],
   "source": [
    "%matplotlib inline\n",
    "import pandas as pd\n",
    "\n",
    "\n",
    "# Suppress warnings\n",
    "import warnings\n",
    "warnings.filterwarnings('ignore')\n",
    "\n",
    "# Getting the data\n",
    "data = \"https://vincentarelbundock.github.io/Rdatasets/csv/carData/OBrienKaiser.csv\"\n",
    "\n",
    "# Loading the data into a Pandas dataframe\n",
    "df = pd.read_csv(data, index_col=0)\n",
    "\n",
    "# Using Pandas head to check the first 5 rows of the dataframe\n",
    "df.head()"
   ]
  },
  {
   "cell_type": "code",
   "execution_count": 2,
   "metadata": {},
   "outputs": [
    {
     "data": {
      "text/html": [
       "<div>\n",
       "<style scoped>\n",
       "    .dataframe tbody tr th:only-of-type {\n",
       "        vertical-align: middle;\n",
       "    }\n",
       "\n",
       "    .dataframe tbody tr th {\n",
       "        vertical-align: top;\n",
       "    }\n",
       "\n",
       "    .dataframe thead th {\n",
       "        text-align: right;\n",
       "    }\n",
       "</style>\n",
       "<table border=\"1\" class=\"dataframe\">\n",
       "  <thead>\n",
       "    <tr style=\"text-align: right;\">\n",
       "      <th></th>\n",
       "      <th>id</th>\n",
       "      <th>gender</th>\n",
       "      <th>treatment</th>\n",
       "      <th>hour</th>\n",
       "      <th>phase</th>\n",
       "      <th>value</th>\n",
       "    </tr>\n",
       "  </thead>\n",
       "  <tbody>\n",
       "    <tr>\n",
       "      <th>0</th>\n",
       "      <td>1</td>\n",
       "      <td>M</td>\n",
       "      <td>control</td>\n",
       "      <td>1</td>\n",
       "      <td>pre</td>\n",
       "      <td>1</td>\n",
       "    </tr>\n",
       "    <tr>\n",
       "      <th>1</th>\n",
       "      <td>1</td>\n",
       "      <td>M</td>\n",
       "      <td>control</td>\n",
       "      <td>2</td>\n",
       "      <td>pre</td>\n",
       "      <td>2</td>\n",
       "    </tr>\n",
       "    <tr>\n",
       "      <th>2</th>\n",
       "      <td>1</td>\n",
       "      <td>M</td>\n",
       "      <td>control</td>\n",
       "      <td>3</td>\n",
       "      <td>pre</td>\n",
       "      <td>4</td>\n",
       "    </tr>\n",
       "    <tr>\n",
       "      <th>3</th>\n",
       "      <td>1</td>\n",
       "      <td>M</td>\n",
       "      <td>control</td>\n",
       "      <td>4</td>\n",
       "      <td>pre</td>\n",
       "      <td>2</td>\n",
       "    </tr>\n",
       "    <tr>\n",
       "      <th>4</th>\n",
       "      <td>1</td>\n",
       "      <td>M</td>\n",
       "      <td>control</td>\n",
       "      <td>5</td>\n",
       "      <td>pre</td>\n",
       "      <td>1</td>\n",
       "    </tr>\n",
       "  </tbody>\n",
       "</table>\n",
       "</div>"
      ],
      "text/plain": [
       "   id gender treatment  hour phase  value\n",
       "0   1      M   control     1   pre      1\n",
       "1   1      M   control     2   pre      2\n",
       "2   1      M   control     3   pre      4\n",
       "3   1      M   control     4   pre      2\n",
       "4   1      M   control     5   pre      1"
      ]
     },
     "execution_count": 2,
     "metadata": {},
     "output_type": "execute_result"
    }
   ],
   "source": [
    "df[\"id\"] = df.index\n",
    "df_long = pd.wide_to_long(df, [\"pre\", \"post\", \"fup\"], \n",
    "                i=[\"id\", \"gender\", \"treatment\"], \n",
    "                j='hour', sep=\".\").reset_index()\n",
    "\n",
    "df_long = pd.melt(df_long,id_vars=[\"id\", \"gender\", \"treatment\", \"hour\"], \n",
    "                  var_name='phase', value_name='value')\n",
    "\n",
    "df_long.head()"
   ]
  },
  {
   "cell_type": "markdown",
   "metadata": {},
   "source": [
    "## Box Plots in Python using Seaborn\n",
    "Time for some data visualization and we start by creating a box plot using Seaborn"
   ]
  },
  {
   "cell_type": "code",
   "execution_count": 5,
   "metadata": {},
   "outputs": [
    {
     "data": {
      "text/plain": [
       "<Figure size 864x864 with 0 Axes>"
      ]
     },
     "metadata": {},
     "output_type": "display_data"
    },
    {
     "data": {
      "image/png": "[encoded data removed]",
      "text/plain": [
       "<Figure size 447.27x360 with 1 Axes>"
      ]
     },
     "metadata": {},
     "output_type": "display_data"
    }
   ],
   "source": [
    "import seaborn as sns\n",
    "\n",
    "# Change the size of the font\n",
    "sns.set(font_scale=1.2)\n",
    "\n",
    "g = sns.catplot(x=\"phase\", y=\"value\", kind=\"box\",\n",
    "                hue=\"treatment\", data=df_long)"
   ]
  },
  {
   "cell_type": "markdown",
   "metadata": {},
   "source": [
    "## Line Plots using Seaborn\n",
    "Next, we create some simple lineplots."
   ]
  },
  {
   "cell_type": "code",
   "execution_count": null,
   "metadata": {},
   "outputs": [],
   "source": [
    " ax = sns.lineplot(x=\"phase\", y=\"value\", hue=\"treatment\",\n",
    "                   data=df_long)"
   ]
  },
  {
   "cell_type": "markdown",
   "metadata": {},
   "source": [
    "## Two-Way Mixed ANOVA in Python\n",
    "Lets analyze the data using a Two-Way Mixed ANOVA using the Python package Pingouin"
   ]
  },
  {
   "cell_type": "code",
   "execution_count": 6,
   "metadata": {},
   "outputs": [
    {
     "name": "stdout",
     "output_type": "stream",
     "text": [
      "        Source     SS  DF1  DF2      MS       F     p-unc    np2    eps\n",
      "0    treatment  37.35    2   13  18.675   2.914  0.090042  0.310      -\n",
      "1        phase  33.50    2   26  16.750  23.626  0.000001  0.645  0.772\n",
      "2  Interaction  15.40    4   26   3.850   5.430  0.002578  0.455      -\n"
     ]
    }
   ],
   "source": [
    "from pingouin import mixed_anova\n",
    "\n",
    "aov = mixed_anova(dv='value', between='treatment',\n",
    "                  within='phase', subject='id', data=df_long)\n",
    "\n",
    "print(aov)"
   ]
  }
 ],
 "metadata": {
  "kernelspec": {
   "display_name": "Python 3",
   "language": "python",
   "name": "python3"
  },
  "language_info": {
   "codemirror_mode": {
    "name": "ipython",
    "version": 3
   },
   "file_extension": ".py",
   "mimetype": "text/x-python",
   "name": "python",
   "nbconvert_exporter": "python",
   "pygments_lexer": "ipython3",
   "version": "3.7.1"
  }
 },
 "nbformat": 4,
 "nbformat_minor": 2
}
